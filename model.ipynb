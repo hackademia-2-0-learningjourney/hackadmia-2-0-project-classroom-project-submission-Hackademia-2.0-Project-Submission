{
 "cells": [
  {
   "cell_type": "code",
   "execution_count": 2,
   "metadata": {},
   "outputs": [],
   "source": [
    "import numpy as np\n",
    "import pandas as pd\n",
    "import matplotlib.pyplot as plt\n",
    "from sklearn.model_selection import train_test_split"
   ]
  },
  {
   "cell_type": "code",
   "execution_count": 3,
   "metadata": {},
   "outputs": [],
   "source": [
    "from sklearn.preprocessing import LabelEncoder, StandardScaler\n",
    "from sklearn.linear_model import LinearRegression"
   ]
  },
  {
   "cell_type": "code",
   "execution_count": 4,
   "metadata": {},
   "outputs": [
    {
     "data": {
      "text/html": [
       "<div>\n",
       "<style scoped>\n",
       "    .dataframe tbody tr th:only-of-type {\n",
       "        vertical-align: middle;\n",
       "    }\n",
       "\n",
       "    .dataframe tbody tr th {\n",
       "        vertical-align: top;\n",
       "    }\n",
       "\n",
       "    .dataframe thead th {\n",
       "        text-align: right;\n",
       "    }\n",
       "</style>\n",
       "<table border=\"1\" class=\"dataframe\">\n",
       "  <thead>\n",
       "    <tr style=\"text-align: right;\">\n",
       "      <th></th>\n",
       "      <th>StudentID</th>\n",
       "      <th>Name</th>\n",
       "      <th>Gender</th>\n",
       "      <th>ParentalSupport</th>\n",
       "      <th>PreviousGrade</th>\n",
       "      <th>StudyHoursPerWeek</th>\n",
       "      <th>ExtracurricularActivities</th>\n",
       "      <th>AttendanceRate</th>\n",
       "      <th>FinalGrade</th>\n",
       "    </tr>\n",
       "  </thead>\n",
       "  <tbody>\n",
       "    <tr>\n",
       "      <th>0</th>\n",
       "      <td>0</td>\n",
       "      <td>Shaun Caldwell</td>\n",
       "      <td>Female</td>\n",
       "      <td>Medium</td>\n",
       "      <td>77.483571</td>\n",
       "      <td>24.996777</td>\n",
       "      <td>1</td>\n",
       "      <td>61.248217</td>\n",
       "      <td>79.324988</td>\n",
       "    </tr>\n",
       "    <tr>\n",
       "      <th>1</th>\n",
       "      <td>1</td>\n",
       "      <td>Michael Simmons</td>\n",
       "      <td>Male</td>\n",
       "      <td>Low</td>\n",
       "      <td>49.308678</td>\n",
       "      <td>16.623168</td>\n",
       "      <td>0</td>\n",
       "      <td>53.554813</td>\n",
       "      <td>56.435792</td>\n",
       "    </tr>\n",
       "    <tr>\n",
       "      <th>2</th>\n",
       "      <td>2</td>\n",
       "      <td>Bryan Snyder</td>\n",
       "      <td>Male</td>\n",
       "      <td>High</td>\n",
       "      <td>88.238443</td>\n",
       "      <td>25.298152</td>\n",
       "      <td>5</td>\n",
       "      <td>62.075801</td>\n",
       "      <td>94.707872</td>\n",
       "    </tr>\n",
       "    <tr>\n",
       "      <th>3</th>\n",
       "      <td>3</td>\n",
       "      <td>Justin Jacobs</td>\n",
       "      <td>Female</td>\n",
       "      <td>Low</td>\n",
       "      <td>57.615149</td>\n",
       "      <td>8.765316</td>\n",
       "      <td>1</td>\n",
       "      <td>50.000000</td>\n",
       "      <td>62.502877</td>\n",
       "    </tr>\n",
       "    <tr>\n",
       "      <th>4</th>\n",
       "      <td>4</td>\n",
       "      <td>Paul Holder</td>\n",
       "      <td>Female</td>\n",
       "      <td>Medium</td>\n",
       "      <td>73.829233</td>\n",
       "      <td>21.491117</td>\n",
       "      <td>2</td>\n",
       "      <td>50.000000</td>\n",
       "      <td>82.103799</td>\n",
       "    </tr>\n",
       "    <tr>\n",
       "      <th>...</th>\n",
       "      <td>...</td>\n",
       "      <td>...</td>\n",
       "      <td>...</td>\n",
       "      <td>...</td>\n",
       "      <td>...</td>\n",
       "      <td>...</td>\n",
       "      <td>...</td>\n",
       "      <td>...</td>\n",
       "      <td>...</td>\n",
       "    </tr>\n",
       "    <tr>\n",
       "      <th>995</th>\n",
       "      <td>995</td>\n",
       "      <td>Tony Wilson</td>\n",
       "      <td>Male</td>\n",
       "      <td>High</td>\n",
       "      <td>83.594499</td>\n",
       "      <td>30.350751</td>\n",
       "      <td>2</td>\n",
       "      <td>76.774805</td>\n",
       "      <td>99.000000</td>\n",
       "    </tr>\n",
       "    <tr>\n",
       "      <th>996</th>\n",
       "      <td>996</td>\n",
       "      <td>Roger Nguyen</td>\n",
       "      <td>Female</td>\n",
       "      <td>Medium</td>\n",
       "      <td>83.988433</td>\n",
       "      <td>17.867394</td>\n",
       "      <td>5</td>\n",
       "      <td>62.577525</td>\n",
       "      <td>70.920444</td>\n",
       "    </tr>\n",
       "    <tr>\n",
       "      <th>997</th>\n",
       "      <td>997</td>\n",
       "      <td>Maria Morris</td>\n",
       "      <td>Male</td>\n",
       "      <td>Low</td>\n",
       "      <td>53.204214</td>\n",
       "      <td>7.590627</td>\n",
       "      <td>2</td>\n",
       "      <td>50.000000</td>\n",
       "      <td>47.788949</td>\n",
       "    </tr>\n",
       "    <tr>\n",
       "      <th>998</th>\n",
       "      <td>998</td>\n",
       "      <td>Warren Berry</td>\n",
       "      <td>Male</td>\n",
       "      <td>Medium</td>\n",
       "      <td>72.144105</td>\n",
       "      <td>17.184665</td>\n",
       "      <td>0</td>\n",
       "      <td>73.341764</td>\n",
       "      <td>89.698660</td>\n",
       "    </tr>\n",
       "    <tr>\n",
       "      <th>999</th>\n",
       "      <td>999</td>\n",
       "      <td>Jeffery White</td>\n",
       "      <td>Female</td>\n",
       "      <td>Low</td>\n",
       "      <td>52.862914</td>\n",
       "      <td>8.275487</td>\n",
       "      <td>4</td>\n",
       "      <td>50.000000</td>\n",
       "      <td>50.878989</td>\n",
       "    </tr>\n",
       "  </tbody>\n",
       "</table>\n",
       "<p>1000 rows × 9 columns</p>\n",
       "</div>"
      ],
      "text/plain": [
       "     StudentID             Name  Gender ParentalSupport  PreviousGrade  \\\n",
       "0            0   Shaun Caldwell  Female          Medium      77.483571   \n",
       "1            1  Michael Simmons    Male             Low      49.308678   \n",
       "2            2     Bryan Snyder    Male            High      88.238443   \n",
       "3            3    Justin Jacobs  Female             Low      57.615149   \n",
       "4            4      Paul Holder  Female          Medium      73.829233   \n",
       "..         ...              ...     ...             ...            ...   \n",
       "995        995      Tony Wilson    Male            High      83.594499   \n",
       "996        996     Roger Nguyen  Female          Medium      83.988433   \n",
       "997        997     Maria Morris    Male             Low      53.204214   \n",
       "998        998     Warren Berry    Male          Medium      72.144105   \n",
       "999        999    Jeffery White  Female             Low      52.862914   \n",
       "\n",
       "     StudyHoursPerWeek  ExtracurricularActivities  AttendanceRate  FinalGrade  \n",
       "0            24.996777                          1       61.248217   79.324988  \n",
       "1            16.623168                          0       53.554813   56.435792  \n",
       "2            25.298152                          5       62.075801   94.707872  \n",
       "3             8.765316                          1       50.000000   62.502877  \n",
       "4            21.491117                          2       50.000000   82.103799  \n",
       "..                 ...                        ...             ...         ...  \n",
       "995          30.350751                          2       76.774805   99.000000  \n",
       "996          17.867394                          5       62.577525   70.920444  \n",
       "997           7.590627                          2       50.000000   47.788949  \n",
       "998          17.184665                          0       73.341764   89.698660  \n",
       "999           8.275487                          4       50.000000   50.878989  \n",
       "\n",
       "[1000 rows x 9 columns]"
      ]
     },
     "metadata": {},
     "output_type": "display_data"
    }
   ],
   "source": [
    "#getting data from csv file\n",
    "data = pd.read_csv('data/data.csv')\n",
    "display(data)"
   ]
  },
  {
   "cell_type": "code",
   "execution_count": 5,
   "metadata": {},
   "outputs": [],
   "source": [
    "#separating features and target\n",
    "features = np.array(\n",
    "    [\n",
    "        'ParentalSupport',\n",
    "        'PreviousGrade',\n",
    "        'StudyHoursPerWeek',\n",
    "        'ExtracurricularActivities',\n",
    "        'AttendanceRate',\n",
    "    ]\n",
    ")\n",
    "target = np.array(['FinalGrade'])\n"
   ]
  },
  {
   "cell_type": "code",
   "execution_count": 6,
   "metadata": {},
   "outputs": [],
   "source": [
    "x = data[features]\n",
    "\n",
    "y = data[target]"
   ]
  },
  {
   "cell_type": "code",
   "execution_count": 7,
   "metadata": {},
   "outputs": [
    {
     "name": "stderr",
     "output_type": "stream",
     "text": [
      "C:\\Users\\user\\AppData\\Local\\Temp\\ipykernel_22628\\3187118049.py:7: SettingWithCopyWarning: \n",
      "A value is trying to be set on a copy of a slice from a DataFrame.\n",
      "Try using .loc[row_indexer,col_indexer] = value instead\n",
      "\n",
      "See the caveats in the documentation: https://pandas.pydata.org/pandas-docs/stable/user_guide/indexing.html#returning-a-view-versus-a-copy\n",
      "  x[i] = label.fit_transform(x[i])\n"
     ]
    }
   ],
   "source": [
    "#declaring new instance of labelEncoder\n",
    "label = LabelEncoder()\n",
    "\n",
    "encodingList = ['ParentalSupport']\n",
    "\n",
    "for i in encodingList:\n",
    "    x[i] = label.fit_transform(x[i])"
   ]
  },
  {
   "cell_type": "code",
   "execution_count": 8,
   "metadata": {},
   "outputs": [
    {
     "data": {
      "text/html": [
       "<div>\n",
       "<style scoped>\n",
       "    .dataframe tbody tr th:only-of-type {\n",
       "        vertical-align: middle;\n",
       "    }\n",
       "\n",
       "    .dataframe tbody tr th {\n",
       "        vertical-align: top;\n",
       "    }\n",
       "\n",
       "    .dataframe thead th {\n",
       "        text-align: right;\n",
       "    }\n",
       "</style>\n",
       "<table border=\"1\" class=\"dataframe\">\n",
       "  <thead>\n",
       "    <tr style=\"text-align: right;\">\n",
       "      <th></th>\n",
       "      <th>ParentalSupport</th>\n",
       "      <th>PreviousGrade</th>\n",
       "      <th>StudyHoursPerWeek</th>\n",
       "      <th>ExtracurricularActivities</th>\n",
       "      <th>AttendanceRate</th>\n",
       "    </tr>\n",
       "  </thead>\n",
       "  <tbody>\n",
       "    <tr>\n",
       "      <th>0</th>\n",
       "      <td>2</td>\n",
       "      <td>77.483571</td>\n",
       "      <td>24.996777</td>\n",
       "      <td>1</td>\n",
       "      <td>61.248217</td>\n",
       "    </tr>\n",
       "    <tr>\n",
       "      <th>1</th>\n",
       "      <td>1</td>\n",
       "      <td>49.308678</td>\n",
       "      <td>16.623168</td>\n",
       "      <td>0</td>\n",
       "      <td>53.554813</td>\n",
       "    </tr>\n",
       "    <tr>\n",
       "      <th>2</th>\n",
       "      <td>0</td>\n",
       "      <td>88.238443</td>\n",
       "      <td>25.298152</td>\n",
       "      <td>5</td>\n",
       "      <td>62.075801</td>\n",
       "    </tr>\n",
       "    <tr>\n",
       "      <th>3</th>\n",
       "      <td>1</td>\n",
       "      <td>57.615149</td>\n",
       "      <td>8.765316</td>\n",
       "      <td>1</td>\n",
       "      <td>50.000000</td>\n",
       "    </tr>\n",
       "    <tr>\n",
       "      <th>4</th>\n",
       "      <td>2</td>\n",
       "      <td>73.829233</td>\n",
       "      <td>21.491117</td>\n",
       "      <td>2</td>\n",
       "      <td>50.000000</td>\n",
       "    </tr>\n",
       "    <tr>\n",
       "      <th>...</th>\n",
       "      <td>...</td>\n",
       "      <td>...</td>\n",
       "      <td>...</td>\n",
       "      <td>...</td>\n",
       "      <td>...</td>\n",
       "    </tr>\n",
       "    <tr>\n",
       "      <th>995</th>\n",
       "      <td>0</td>\n",
       "      <td>83.594499</td>\n",
       "      <td>30.350751</td>\n",
       "      <td>2</td>\n",
       "      <td>76.774805</td>\n",
       "    </tr>\n",
       "    <tr>\n",
       "      <th>996</th>\n",
       "      <td>2</td>\n",
       "      <td>83.988433</td>\n",
       "      <td>17.867394</td>\n",
       "      <td>5</td>\n",
       "      <td>62.577525</td>\n",
       "    </tr>\n",
       "    <tr>\n",
       "      <th>997</th>\n",
       "      <td>1</td>\n",
       "      <td>53.204214</td>\n",
       "      <td>7.590627</td>\n",
       "      <td>2</td>\n",
       "      <td>50.000000</td>\n",
       "    </tr>\n",
       "    <tr>\n",
       "      <th>998</th>\n",
       "      <td>2</td>\n",
       "      <td>72.144105</td>\n",
       "      <td>17.184665</td>\n",
       "      <td>0</td>\n",
       "      <td>73.341764</td>\n",
       "    </tr>\n",
       "    <tr>\n",
       "      <th>999</th>\n",
       "      <td>1</td>\n",
       "      <td>52.862914</td>\n",
       "      <td>8.275487</td>\n",
       "      <td>4</td>\n",
       "      <td>50.000000</td>\n",
       "    </tr>\n",
       "  </tbody>\n",
       "</table>\n",
       "<p>1000 rows × 5 columns</p>\n",
       "</div>"
      ],
      "text/plain": [
       "     ParentalSupport  PreviousGrade  StudyHoursPerWeek  \\\n",
       "0                  2      77.483571          24.996777   \n",
       "1                  1      49.308678          16.623168   \n",
       "2                  0      88.238443          25.298152   \n",
       "3                  1      57.615149           8.765316   \n",
       "4                  2      73.829233          21.491117   \n",
       "..               ...            ...                ...   \n",
       "995                0      83.594499          30.350751   \n",
       "996                2      83.988433          17.867394   \n",
       "997                1      53.204214           7.590627   \n",
       "998                2      72.144105          17.184665   \n",
       "999                1      52.862914           8.275487   \n",
       "\n",
       "     ExtracurricularActivities  AttendanceRate  \n",
       "0                            1       61.248217  \n",
       "1                            0       53.554813  \n",
       "2                            5       62.075801  \n",
       "3                            1       50.000000  \n",
       "4                            2       50.000000  \n",
       "..                         ...             ...  \n",
       "995                          2       76.774805  \n",
       "996                          5       62.577525  \n",
       "997                          2       50.000000  \n",
       "998                          0       73.341764  \n",
       "999                          4       50.000000  \n",
       "\n",
       "[1000 rows x 5 columns]"
      ]
     },
     "metadata": {},
     "output_type": "display_data"
    }
   ],
   "source": [
    "display(x)"
   ]
  },
  {
   "cell_type": "code",
   "execution_count": 9,
   "metadata": {},
   "outputs": [],
   "source": [
    "#initializing new instance of standard scaler\n",
    "scaler = StandardScaler()\n",
    "\n",
    "x = scaler.fit_transform(x)"
   ]
  },
  {
   "cell_type": "code",
   "execution_count": 10,
   "metadata": {},
   "outputs": [
    {
     "name": "stdout",
     "output_type": "stream",
     "text": [
      "(200, 5)\n"
     ]
    }
   ],
   "source": [
    "#spliting features and target to train and test sets\n",
    "x_train,x_test,y_train,y_test = train_test_split(x,y,train_size=0.2,random_state= 42)\n",
    "\n",
    "print(x_train.shape)"
   ]
  },
  {
   "cell_type": "code",
   "execution_count": 11,
   "metadata": {},
   "outputs": [],
   "source": [
    "#model train and prediction\n",
    "model = LinearRegression()\n",
    "\n",
    "model.fit(x_train, y_train)\n",
    "\n",
    "prediction = model.predict(x_test)"
   ]
  },
  {
   "cell_type": "code",
   "execution_count": 12,
   "metadata": {},
   "outputs": [],
   "source": [
    "from sklearn.metrics import r2_score, mean_squared_error"
   ]
  },
  {
   "cell_type": "code",
   "execution_count": 13,
   "metadata": {},
   "outputs": [
    {
     "name": "stdout",
     "output_type": "stream",
     "text": [
      "28.075751199754322\n"
     ]
    }
   ],
   "source": [
    "#Mean Squared error\n",
    "print(mean_squared_error(y_test, prediction))"
   ]
  },
  {
   "cell_type": "code",
   "execution_count": 14,
   "metadata": {},
   "outputs": [
    {
     "name": "stdout",
     "output_type": "stream",
     "text": [
      "0.9243161104076018\n"
     ]
    }
   ],
   "source": [
    "#R2 Score\n",
    "print(r2_score(y_test, prediction))"
   ]
  },
  {
   "cell_type": "code",
   "execution_count": 15,
   "metadata": {},
   "outputs": [
    {
     "name": "stdout",
     "output_type": "stream",
     "text": [
      "(1, 5)\n"
     ]
    },
    {
     "name": "stderr",
     "output_type": "stream",
     "text": [
      "d:\\fnclick\\python\\academicperfomanceprediction\\env\\Lib\\site-packages\\sklearn\\base.py:493: UserWarning: X does not have valid feature names, but StandardScaler was fitted with feature names\n",
      "  warnings.warn(\n"
     ]
    }
   ],
   "source": [
    "#testing using new data\n",
    "testdata = np.array([[2, 20, 29, 1, 60]]) \n",
    "\n",
    "testdata = scaler.transform(testdata)\n",
    "\n",
    "print(testdata.shape)\n",
    "\n",
    "testprediction = model.predict(testdata)"
   ]
  },
  {
   "cell_type": "code",
   "execution_count": 16,
   "metadata": {},
   "outputs": [
    {
     "name": "stdout",
     "output_type": "stream",
     "text": [
      "[[57.96272746]]\n"
     ]
    }
   ],
   "source": [
    "print(testprediction)"
   ]
  },
  {
   "cell_type": "code",
   "execution_count": 17,
   "metadata": {},
   "outputs": [
    {
     "data": {
      "text/plain": [
       "['models/academicperformanceprediction.pkl']"
      ]
     },
     "execution_count": 17,
     "metadata": {},
     "output_type": "execute_result"
    }
   ],
   "source": [
    "import joblib\n",
    "\n",
    "#saving model\n",
    "joblib.dump(model, 'models/academicperformanceprediction.pkl')"
   ]
  },
  {
   "cell_type": "code",
   "execution_count": 18,
   "metadata": {},
   "outputs": [
    {
     "data": {
      "text/plain": [
       "['models/scaler.pkl']"
      ]
     },
     "execution_count": 18,
     "metadata": {},
     "output_type": "execute_result"
    }
   ],
   "source": [
    "#saving standardScalar value\n",
    "joblib.dump(scaler, 'models/scaler.pkl')"
   ]
  },
  {
   "cell_type": "code",
   "execution_count": 19,
   "metadata": {},
   "outputs": [
    {
     "data": {
      "text/plain": [
       "['models/labelEncoder.pkl']"
      ]
     },
     "execution_count": 19,
     "metadata": {},
     "output_type": "execute_result"
    }
   ],
   "source": [
    "#saving labelEncoder value\n",
    "joblib.dump(label, 'models/labelEncoder.pkl')"
   ]
  },
  {
   "cell_type": "code",
   "execution_count": null,
   "metadata": {},
   "outputs": [],
   "source": []
  }
 ],
 "metadata": {
  "kernelspec": {
   "display_name": "env",
   "language": "python",
   "name": "python3"
  },
  "language_info": {
   "codemirror_mode": {
    "name": "ipython",
    "version": 3
   },
   "file_extension": ".py",
   "mimetype": "text/x-python",
   "name": "python",
   "nbconvert_exporter": "python",
   "pygments_lexer": "ipython3",
   "version": "3.12.0"
  }
 },
 "nbformat": 4,
 "nbformat_minor": 2
}
