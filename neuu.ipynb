{
 "cells": [
  {
   "cell_type": "code",
   "execution_count": 2,
   "metadata": {},
   "outputs": [
    {
     "name": "stdout",
     "output_type": "stream",
     "text": [
      "Keys in the .npz file: KeysView(NpzFile 'dataset/dataset.npz' with keys: arr_1, arr_0, arr_3, arr_2)\n"
     ]
    }
   ],
   "source": [
    "import numpy as np\n",
    "\n",
    "# Load the .npz file\n",
    "npz_file_path = 'dataset/dataset.npz'  # Replace with your actual path\n",
    "data = np.load(npz_file_path)\n",
    "\n",
    "# List the keys in the .npz file\n",
    "print(\"Keys in the .npz file:\", data.keys())\n"
   ]
  },
  {
   "cell_type": "code",
   "execution_count": 3,
   "metadata": {},
   "outputs": [
    {
     "name": "stdout",
     "output_type": "stream",
     "text": [
      "\n",
      "Key: arr_1\n",
      "Shape of arr_1: (78200,)\n",
      "First 5 elements of arr_1:\n",
      "[39 39 39 39 39]\n",
      "\n",
      "Key: arr_0\n",
      "Shape of arr_0: (78200, 32, 32)\n",
      "First 5 elements of arr_0:\n",
      "[[[  0   0   0 ...   0   0   0]\n",
      "  [  0   0   0 ...   0   0   0]\n",
      "  [  0   0   0 ...   0   0   0]\n",
      "  ...\n",
      "  [  0   0   0 ... 255   0   0]\n",
      "  [  0   0   0 ...   0   0   0]\n",
      "  [  0   0   0 ...   0   0   0]]\n",
      "\n",
      " [[  0   0   0 ...   0   0   0]\n",
      "  [  0   0   0 ...   0   0   0]\n",
      "  [  0   0   0 ...   0   0   0]\n",
      "  ...\n",
      "  [  0   0   0 ... 255   0   0]\n",
      "  [  0   0   0 ...   0   0   0]\n",
      "  [  0   0   0 ...   0   0   0]]\n",
      "\n",
      " [[  0   0   0 ...   0   0   0]\n",
      "  [  0   0   0 ...   0   0   0]\n",
      "  [  0   0   0 ...   0   0   0]\n",
      "  ...\n",
      "  [  0   0   0 ... 243   0   0]\n",
      "  [  0   0   0 ...   0   0   0]\n",
      "  [  0   0   0 ...   0   0   0]]\n",
      "\n",
      " [[  0   0   0 ...   0   0   0]\n",
      "  [  0   0   0 ...   0   0   0]\n",
      "  [  0   0   0 ...   0   0   0]\n",
      "  ...\n",
      "  [  0   0   0 ... 255   0   0]\n",
      "  [  0   0   0 ...   0   0   0]\n",
      "  [  0   0   0 ...   0   0   0]]\n",
      "\n",
      " [[  0   0   0 ...   0   0   0]\n",
      "  [  0   0   0 ...   0   0   0]\n",
      "  [  0   0   0 ...   0   0   0]\n",
      "  ...\n",
      "  [  0   0   0 ... 229   0   0]\n",
      "  [  0   0   0 ...   0   0   0]\n",
      "  [  0   0   0 ...   0   0   0]]]\n",
      "\n",
      "Key: arr_3\n",
      "Shape of arr_3: (13800,)\n",
      "First 5 elements of arr_3:\n",
      "[39 39 39 39 39]\n",
      "\n",
      "Key: arr_2\n",
      "Shape of arr_2: (13800, 32, 32)\n",
      "First 5 elements of arr_2:\n",
      "[[[  0   0   0 ...   0   0   0]\n",
      "  [  0   0   0 ...   0   0   0]\n",
      "  [  0   0   0 ...   0   0   0]\n",
      "  ...\n",
      "  [  0   0   0 ... 255   0   0]\n",
      "  [  0   0   0 ...   0   0   0]\n",
      "  [  0   0   0 ...   0   0   0]]\n",
      "\n",
      " [[  0   0   0 ...   0   0   0]\n",
      "  [  0   0   0 ...   0   0   0]\n",
      "  [  0   0   0 ...   0   0   0]\n",
      "  ...\n",
      "  [  0   0  27 ... 125   0   0]\n",
      "  [  0   0   0 ...   0   0   0]\n",
      "  [  0   0   0 ...   0   0   0]]\n",
      "\n",
      " [[  0   0   0 ...   0   0   0]\n",
      "  [  0   0   0 ...   0   0   0]\n",
      "  [  0   0   0 ...   0   0   0]\n",
      "  ...\n",
      "  [  0   0   0 ... 139   0   0]\n",
      "  [  0   0   0 ...   0   0   0]\n",
      "  [  0   0   0 ...   0   0   0]]\n",
      "\n",
      " [[  0   0   0 ...   0   0   0]\n",
      "  [  0   0   0 ...   0   0   0]\n",
      "  [  0   0   0 ...   0   0   0]\n",
      "  ...\n",
      "  [  0   0   0 ...   0   0   0]\n",
      "  [  0   0   0 ...   0   0   0]\n",
      "  [  0   0   0 ...   0   0   0]]\n",
      "\n",
      " [[  0   0   0 ...   0   0   0]\n",
      "  [  0   0   0 ...   0   0   0]\n",
      "  [  0   0   0 ...   0   0   0]\n",
      "  ...\n",
      "  [  0   0   0 ... 255   0   0]\n",
      "  [  0   0   0 ...   0   0   0]\n",
      "  [  0   0   0 ...   0   0   0]]]\n"
     ]
    }
   ],
   "source": [
    "# Display the shape and first few elements of each array\n",
    "for key in data.keys():\n",
    "    print(f\"\\nKey: {key}\")\n",
    "    print(f\"Shape of {key}: {data[key].shape}\")\n",
    "    print(f\"First 5 elements of {key}:\")\n",
    "    print(data[key][:5])  # Display the first 5 elements\n"
   ]
  },
  {
   "cell_type": "code",
   "execution_count": 4,
   "metadata": {},
   "outputs": [
    {
     "data": {
      "image/png": "[encoded data removed]",
      "text/plain": [
       "<Figure size 1000x200 with 5 Axes>"
      ]
     },
     "metadata": {},
     "output_type": "display_data"
    }
   ],
   "source": [
    "import matplotlib.pyplot as plt\n",
    "\n",
    "def show_images(images, num_images=5, img_shape=(32, 32)):\n",
    "    ncols = int(np.ceil(num_images))\n",
    "    nrows = 1  # Display in a single row\n",
    "    _, axes = plt.subplots(nrows, ncols, figsize=(ncols * 2, nrows * 2))\n",
    "    axes = axes.flatten()\n",
    "\n",
    "    for ax_i, ax in enumerate(axes):\n",
    "        if ax_i < num_images:\n",
    "            img = images[ax_i].reshape(img_shape)  # Reshape if needed\n",
    "            ax.imshow(img, cmap='Greys_r', interpolation='nearest')\n",
    "            ax.set_xticks([])\n",
    "            ax.set_yticks([])\n",
    "        else:\n",
    "            ax.axis('off')\n",
    "    plt.show()\n",
    "\n",
    "# Example: Display first 5 images from a specific key\n",
    "if 'arr_0' in data:\n",
    "    images = data['arr_0']\n",
    "    show_images(images, num_images=5, img_shape=(32, 32))  # Adjust img_shape if needed\n"
   ]
  },
  {
   "cell_type": "code",
   "execution_count": 5,
   "metadata": {},
   "outputs": [],
   "source": [
    "# Close the file to free up resources\n",
    "data.close()\n"
   ]
  },
  {
   "cell_type": "code",
   "execution_count": 6,
   "metadata": {},
   "outputs": [
    {
     "name": "stdout",
     "output_type": "stream",
     "text": [
      "Unique labels in the dataset: [ 1  2  3  4  5  6  7  8  9 10 11 12 13 14 15 16 17 18 19 20 21 22 23 24\n",
      " 25 26 27 28 29 30 31 32 33 34 35 36 37 38 39 40 41 42 43 44 45 46]\n"
     ]
    }
   ],
   "source": [
    "import numpy as np\n",
    "\n",
    "# Load the .npz file\n",
    "npz_file_path = 'dataset/dataset.npz'  # Replace with your actual path\n",
    "data = np.load(npz_file_path)\n",
    "\n",
    "# Check unique labels in the training set\n",
    "unique_labels = np.unique(data['arr_1'])  # Assuming 'arr_1' contains labels\n",
    "print(\"Unique labels in the dataset:\", unique_labels)\n"
   ]
  },
  {
   "cell_type": "code",
   "execution_count": 7,
   "metadata": {},
   "outputs": [
    {
     "data": {
      "image/png": "[encoded data removed]",
      "text/plain": [
       "<Figure size 1000x200 with 5 Axes>"
      ]
     },
     "metadata": {},
     "output_type": "display_data"
    }
   ],
   "source": [
    "import matplotlib.pyplot as plt\n",
    "import random\n",
    "\n",
    "def show_images(images, labels, num_images=5, img_shape=(32, 32)):\n",
    "    ncols = int(np.ceil(num_images))\n",
    "    nrows = 1  # Display in a single row\n",
    "    _, axes = plt.subplots(nrows, ncols, figsize=(ncols * 2, nrows * 2))\n",
    "    axes = axes.flatten()\n",
    "\n",
    "    for ax_i, ax in enumerate(axes):\n",
    "        if ax_i < num_images:\n",
    "            img = images[ax_i].reshape(img_shape)  # Reshape if needed\n",
    "            ax.imshow(img, cmap='Greys_r', interpolation='nearest')\n",
    "            ax.set_xticks([])\n",
    "            ax.set_yticks([])\n",
    "            ax.set_title(f\"Label: {labels[ax_i]}\")\n",
    "        else:\n",
    "            ax.axis('off')\n",
    "    plt.show()\n",
    "\n",
    "# Randomly sample a few indices\n",
    "indices_to_check = random.sample(range(len(data['arr_0'])), 5)  # Adjust range if necessary\n",
    "sample_images = [data['arr_0'][i] for i in indices_to_check]  # Assuming 'arr_0' contains images\n",
    "sample_labels = [data['arr_1'][i] for i in indices_to_check]  # Assuming 'arr_1' contains labels\n",
    "\n",
    "# Display sampled images\n",
    "show_images(sample_images, sample_labels, num_images=5, img_shape=(32, 32))  # Adjust img_shape if needed\n"
   ]
  },
  {
   "cell_type": "code",
   "execution_count": 8,
   "metadata": {},
   "outputs": [
    {
     "name": "stdout",
     "output_type": "stream",
     "text": [
      "First 5 images' shapes: [(32, 32), (32, 32), (32, 32), (32, 32), (32, 32)]\n",
      "First 5 labels: [39, 39, 39, 39, 39]\n"
     ]
    }
   ],
   "source": [
    "# Inspect the first few images and labels\n",
    "print(\"First 5 images' shapes:\", [data['arr_0'][i].shape for i in range(5)])\n",
    "print(\"First 5 labels:\", [data['arr_1'][i] for i in range(5)])\n"
   ]
  },
  {
   "cell_type": "code",
   "execution_count": 9,
   "metadata": {},
   "outputs": [
    {
     "name": "stdout",
     "output_type": "stream",
     "text": [
      "Number of images in the dataset: 78200\n",
      "Number of labels in the dataset: 78200\n"
     ]
    }
   ],
   "source": [
    "# Check the number of images and labels\n",
    "print(\"Number of images in the dataset:\", len(data['arr_0']))\n",
    "print(\"Number of labels in the dataset:\", len(data['arr_1']))\n"
   ]
  },
  {
   "cell_type": "code",
   "execution_count": 10,
   "metadata": {},
   "outputs": [
    {
     "name": "stdout",
     "output_type": "stream",
     "text": [
      "Keys in the .npz file: KeysView(NpzFile 'dataset/dataset.npz' with keys: arr_1, arr_0, arr_3, arr_2)\n"
     ]
    }
   ],
   "source": [
    "import numpy as np\n",
    "import matplotlib.pyplot as plt\n",
    "\n",
    "# Load the .npz file\n",
    "npz_file_path = 'dataset/dataset.npz'  # Replace with your actual path\n",
    "data = np.load(npz_file_path)\n",
    "\n",
    "# Check the keys to understand what data is available\n",
    "print(\"Keys in the .npz file:\", data.keys())\n"
   ]
  },
  {
   "cell_type": "code",
   "execution_count": 11,
   "metadata": {},
   "outputs": [
    {
     "data": {
      "image/png": "[encoded data removed]",
      "text/plain": [
       "<Figure size 1000x200 with 5 Axes>"
      ]
     },
     "metadata": {},
     "output_type": "display_data"
    }
   ],
   "source": [
    "def show_images(images, labels, num_images=5, img_shape=(32, 32)):\n",
    "    ncols = int(np.ceil(num_images))\n",
    "    nrows = 1  # Display in a single row\n",
    "    _, axes = plt.subplots(nrows, ncols, figsize=(ncols * 2, nrows * 2))\n",
    "    axes = axes.flatten()\n",
    "\n",
    "    for ax_i, ax in enumerate(axes):\n",
    "        if ax_i < num_images:\n",
    "            img = images[ax_i].reshape(img_shape)  # Reshape if needed\n",
    "            ax.imshow(img, cmap='Greys_r', interpolation='nearest')\n",
    "            ax.set_xticks([])\n",
    "            ax.set_yticks([])\n",
    "            ax.set_title(f\"Label: {labels[ax_i]}\")\n",
    "        else:\n",
    "            ax.axis('off')\n",
    "    plt.show()\n",
    "\n",
    "# Sample different indices to view images\n",
    "indices_to_check = [300, 500, 100, 1530, 7900]  # Adjust indices as needed\n",
    "sample_images = [data['arr_2'][i] for i in indices_to_check]  # Assuming 'arr_0' contains images\n",
    "sample_labels = [data['arr_1'][i] for i in indices_to_check]  # Assuming 'arr_1' contains labels\n",
    "\n",
    "# Display the selected images\n",
    "show_images(sample_images, sample_labels, num_images=len(indices_to_check), img_shape=(32, 32))  # Adjust img_shape if needed\n"
   ]
  },
  {
   "cell_type": "code",
   "execution_count": 12,
   "metadata": {},
   "outputs": [
    {
     "name": "stdout",
     "output_type": "stream",
     "text": [
      "Label distribution: Counter({39: 1700, 34: 1700, 35: 1700, 8: 1700, 18: 1700, 21: 1700, 40: 1700, 36: 1700, 28: 1700, 2: 1700, 41: 1700, 33: 1700, 30: 1700, 32: 1700, 11: 1700, 1: 1700, 24: 1700, 37: 1700, 42: 1700, 46: 1700, 12: 1700, 44: 1700, 3: 1700, 23: 1700, 20: 1700, 45: 1700, 13: 1700, 15: 1700, 6: 1700, 27: 1700, 38: 1700, 25: 1700, 16: 1700, 31: 1700, 4: 1700, 9: 1700, 5: 1700, 7: 1700, 14: 1700, 19: 1700, 17: 1700, 43: 1700, 10: 1700, 22: 1700, 26: 1700, 29: 1700})\n"
     ]
    }
   ],
   "source": [
    "from collections import Counter\n",
    "\n",
    "# Get all labels\n",
    "labels = data['arr_1']  # Assuming 'arr_1' contains labels\n",
    "\n",
    "# Count occurrences of each label\n",
    "label_counts = Counter(labels)\n",
    "print(\"Label distribution:\", label_counts)\n"
   ]
  },
  {
   "cell_type": "code",
   "execution_count": 13,
   "metadata": {},
   "outputs": [
    {
     "name": "stdout",
     "output_type": "stream",
     "text": [
      "Shape of 'arr_2': (13800, 32, 32)\n",
      "First 5 elements of 'arr_2': [[[  0   0   0 ...   0   0   0]\n",
      "  [  0   0   0 ...   0   0   0]\n",
      "  [  0   0   0 ...   0   0   0]\n",
      "  ...\n",
      "  [  0   0   0 ... 255   0   0]\n",
      "  [  0   0   0 ...   0   0   0]\n",
      "  [  0   0   0 ...   0   0   0]]\n",
      "\n",
      " [[  0   0   0 ...   0   0   0]\n",
      "  [  0   0   0 ...   0   0   0]\n",
      "  [  0   0   0 ...   0   0   0]\n",
      "  ...\n",
      "  [  0   0  27 ... 125   0   0]\n",
      "  [  0   0   0 ...   0   0   0]\n",
      "  [  0   0   0 ...   0   0   0]]\n",
      "\n",
      " [[  0   0   0 ...   0   0   0]\n",
      "  [  0   0   0 ...   0   0   0]\n",
      "  [  0   0   0 ...   0   0   0]\n",
      "  ...\n",
      "  [  0   0   0 ... 139   0   0]\n",
      "  [  0   0   0 ...   0   0   0]\n",
      "  [  0   0   0 ...   0   0   0]]\n",
      "\n",
      " [[  0   0   0 ...   0   0   0]\n",
      "  [  0   0   0 ...   0   0   0]\n",
      "  [  0   0   0 ...   0   0   0]\n",
      "  ...\n",
      "  [  0   0   0 ...   0   0   0]\n",
      "  [  0   0   0 ...   0   0   0]\n",
      "  [  0   0   0 ...   0   0   0]]\n",
      "\n",
      " [[  0   0   0 ...   0   0   0]\n",
      "  [  0   0   0 ...   0   0   0]\n",
      "  [  0   0   0 ...   0   0   0]\n",
      "  ...\n",
      "  [  0   0   0 ... 255   0   0]\n",
      "  [  0   0   0 ...   0   0   0]\n",
      "  [  0   0   0 ...   0   0   0]]]\n"
     ]
    }
   ],
   "source": [
    "# Example: Display data from another key, e.g., 'arr_2'\n",
    "if 'arr_2' in data:\n",
    "    other_data = data['arr_2']  # Replace with the actual key\n",
    "    print(f\"Shape of 'arr_2': {other_data.shape}\")\n",
    "    print(f\"First 5 elements of 'arr_2': {other_data[:5]}\")\n"
   ]
  },
  {
   "cell_type": "code",
   "execution_count": null,
   "metadata": {},
   "outputs": [],
   "source": []
  }
 ],
 "metadata": {
  "kernelspec": {
   "display_name": "Python 3",
   "language": "python",
   "name": "python3"
  },
  "language_info": {
   "codemirror_mode": {
    "name": "ipython",
    "version": 3
   },
   "file_extension": ".py",
   "mimetype": "text/x-python",
   "name": "python",
   "nbconvert_exporter": "python",
   "pygments_lexer": "ipython3",
   "version": "3.12.5"
  }
 },
 "nbformat": 4,
 "nbformat_minor": 2
}
