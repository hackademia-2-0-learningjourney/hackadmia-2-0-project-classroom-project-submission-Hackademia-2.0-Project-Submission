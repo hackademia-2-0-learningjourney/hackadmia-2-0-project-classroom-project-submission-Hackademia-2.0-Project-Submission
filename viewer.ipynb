{
 "cells": [
  {
   "cell_type": "code",
   "execution_count": 28,
   "metadata": {
    "collapsed": true
   },
   "outputs": [],
   "source": [
    "import torch\n",
    "import torch.utils.data as data_utils\n",
    "from dataloader import  DHCDataset\n",
    "import numpy as np\n",
    "from matplotlib import pyplot as plt\n",
    "\n",
    "\n",
    "npz_file_path = 'dataset/dataset.npz'  # Replace with the actual path\n",
    "dataManager = DHCDataset(npz_file=npz_file_path, train=True)  # Set to True for training data\n",
    "\n",
    "# dataManager = DHCDataset()"
   ]
  },
  {
   "cell_type": "code",
   "execution_count": 29,
   "metadata": {},
   "outputs": [],
   "source": [
    "# Helper function to show images\n",
    "def show_images_grid(imgs_, num_images=5, img_shape=(32, 32)):\n",
    "    ncols = int(np.ceil(num_images))\n",
    "    nrows = 1  # Since you're displaying in a single row\n",
    "    _, axes = plt.subplots(nrows, ncols, figsize=(ncols * 2, nrows * 2))\n",
    "    axes = axes.flatten()\n",
    "\n",
    "    for ax_i, ax in enumerate(axes):\n",
    "        if ax_i < num_images:\n",
    "            # Reshape the image if it's flattened\n",
    "            img = imgs_[ax_i].reshape(img_shape)  # Reshape to the original shape\n",
    "            ax.imshow(img, cmap='Greys_r', interpolation='nearest')\n",
    "            ax.set_xticks([])\n",
    "            ax.set_yticks([])\n",
    "        else:\n",
    "            ax.axis('off')\n",
    "    plt.show()\n",
    "\n",
    "\n",
    "\n",
    "\n",
    "\n",
    "\n",
    "\n",
    "\n",
    "# #Helper function to show images\n",
    "# def show_images_grid(imgs_, num_images=5):\n",
    "#     ncols = int(np.ceil(num_images))\n",
    "#     nrows = int(np.ceil(1))\n",
    "#     _, axes = plt.subplots(ncols, nrows, figsize=(nrows, ncols))\n",
    "#     axes = axes.flatten()\n",
    "\n",
    "#     for ax_i, ax in enumerate(axes):\n",
    "#         if ax_i < num_images:\n",
    "#             ax.imshow(imgs_[ax_i][0].numpy(), cmap='Greys_r', interpolation='nearest')\n",
    "#             ax.set_xticks([])\n",
    "#             ax.set_yticks([])\n",
    "#         else:\n",
    "#             ax.axis('off')\n"
   ]
  },
  {
   "cell_type": "code",
   "execution_count": 30,
   "metadata": {},
   "outputs": [
    {
     "data": {
      "image/png": "[encoded data removed]",
      "text/plain": [
       "<Figure size 1000x200 with 5 Axes>"
      ]
     },
     "metadata": {},
     "output_type": "display_data"
    }
   ],
   "source": [
    "%matplotlib inline\n",
    "\n",
    "# Retrieve a few images from the dataset\n",
    "images_to_show = [dataManager[i][0] for i in range(5)]  # Get the first 5 images\n",
    "\n",
    "# Display the images in a grid\n",
    "show_images_grid(images_to_show, num_images=5, img_shape=(32, 32))  # Assuming images are 32x32\n",
    "\n",
    "\n",
    "# show_images_grid(dataManager.train)"
   ]
  },
  {
   "cell_type": "code",
   "execution_count": 31,
   "metadata": {},
   "outputs": [
    {
     "name": "stdout",
     "output_type": "stream",
     "text": [
      "Labels for the first 5 images: [39, 39, 39, 39, 39]\n"
     ]
    }
   ],
   "source": [
    "# Retrieve the first 5 labels from the dataset\n",
    "labels_to_show = [dataManager[i][1] for i in range(5)]  # Get the first 5 labels\n",
    "\n",
    "# Display the labels\n",
    "print(\"Labels for the first 5 images:\", labels_to_show)\n"
   ]
  },
  {
   "cell_type": "code",
   "execution_count": null,
   "metadata": {
    "collapsed": true
   },
   "outputs": [],
   "source": []
  }
 ],
 "metadata": {
  "kernelspec": {
   "display_name": "Python 3",
   "language": "python",
   "name": "python3"
  },
  "language_info": {
   "codemirror_mode": {
    "name": "ipython",
    "version": 3
   },
   "file_extension": ".py",
   "mimetype": "text/x-python",
   "name": "python",
   "nbconvert_exporter": "python",
   "pygments_lexer": "ipython3",
   "version": "3.12.5"
  }
 },
 "nbformat": 4,
 "nbformat_minor": 2
}
